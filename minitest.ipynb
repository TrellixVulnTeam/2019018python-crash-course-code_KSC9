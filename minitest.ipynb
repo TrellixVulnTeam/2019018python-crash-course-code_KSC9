{
 "metadata": {
  "language_info": {
   "codemirror_mode": {
    "name": "ipython",
    "version": 3
   },
   "file_extension": ".py",
   "mimetype": "text/x-python",
   "name": "python",
   "nbconvert_exporter": "python",
   "pygments_lexer": "ipython3",
   "version": "3.7.4-final"
  },
  "orig_nbformat": 2,
  "kernelspec": {
   "name": "python37464bitminiconda3virtualenv435d9069986f4c3f9d3045c87d45aaec",
   "display_name": "Python 3.7.4 64-bit ('miniconda3': virtualenv)"
  }
 },
 "nbformat": 4,
 "nbformat_minor": 2,
 "cells": [
  {
   "cell_type": "code",
   "execution_count": 1,
   "metadata": {},
   "outputs": [],
   "source": [
    "import re"
   ]
  },
  {
   "cell_type": "code",
   "execution_count": 2,
   "metadata": {
    "tags": []
   },
   "outputs": [
    {
     "output_type": "stream",
     "name": "stdout",
     "text": "2\n"
    }
   ],
   "source": [
    "print(2)"
   ]
  },
  {
   "cell_type": "code",
   "execution_count": 3,
   "metadata": {
    "tags": []
   },
   "outputs": [
    {
     "output_type": "stream",
     "name": "stdout",
     "text": "total 16\n-rw-r--r--  1 Daglas  staff   0 Aug 28 23:30 jupyter_notebook_config.py\n-rw-r--r--  1 Daglas  staff  72 Aug 28 23:30 t-01ec652d-50f4-4805-ad7d-35f43ab7dd26.ipynb\n-rw-r--r--  1 Daglas  staff  72 Aug 28 23:30 t-d2f590ac-5bb2-47fc-92c0-01c166e05aa7.ipynb\n"
    }
   ],
   "source": [
    "ll"
   ]
  },
  {
   "cell_type": "code",
   "execution_count": null,
   "metadata": {},
   "outputs": [],
   "source": []
  }
 ]
}